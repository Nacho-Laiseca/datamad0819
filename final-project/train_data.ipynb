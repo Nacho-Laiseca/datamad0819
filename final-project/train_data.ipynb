{
 "cells": [
  {
   "cell_type": "code",
   "execution_count": 1,
   "metadata": {},
   "outputs": [],
   "source": [
    "import CONST\n",
    "import numpy as np\n",
    "import cv2\n",
    "import os\n",
    "import time"
   ]
  },
  {
   "cell_type": "code",
   "execution_count": 2,
   "metadata": {},
   "outputs": [],
   "source": [
    "def createFolder(directory):\n",
    "    try:\n",
    "        if not os.path.exists(directory):\n",
    "            os.makedirs(directory)\n",
    "    except OSError:\n",
    "        print ('Error: Creating directory. ' +  directory)"
   ]
  },
  {
   "cell_type": "code",
   "execution_count": 3,
   "metadata": {},
   "outputs": [],
   "source": [
    "def record_frames(video_name):\n",
    "    # capture a video\n",
    "    cap = cv2.VideoCapture(0)\n",
    "    time.sleep(2)\n",
    "\n",
    "    frame_count = 1\n",
    "    createFolder('./dataset/'+video_name+'/')\n",
    "    \n",
    "    print('Keep r pressed to record')\n",
    "    print('Keep q pressed to exit')\n",
    "    \n",
    "    # record frames\n",
    "    while(frame_count <= CONST.FRAMES_PER_VIDEO):\n",
    "        # Capture frame-by-frame\n",
    "        ret, frame = cap.read()\n",
    "        \n",
    "        # Display the resulting frame\n",
    "        cv2.imshow('frame',frame)\n",
    "        \n",
    "        if ret==True:\n",
    "            if cv2.waitKey(1) & 0xFF == ord('r'):\n",
    "                print ('.', end=\"\")\n",
    "                #save the frame as an image\n",
    "                cv2.imwrite('dataset/%s/%d.jpg' % (video_name, frame_count), frame)     # save frame as JPEG file\n",
    "                frame_count += 1  \n",
    "            elif cv2.waitKey(1) & 0xFF == ord('q'):\n",
    "                break\n",
    "        else:\n",
    "            break  \n",
    "    # Release opencv resources\n",
    "    cap.release()\n",
    "    cv2.destroyAllWindows()"
   ]
  },
  {
   "cell_type": "code",
   "execution_count": 4,
   "metadata": {},
   "outputs": [
    {
     "name": "stdout",
     "output_type": "stream",
     "text": [
      "In a word, what am I about to see? Peace\n",
      "Keep r pressed to record\n",
      "Keep q pressed to exit\n",
      "....................................................................................................\n",
      "Got it\n"
     ]
    }
   ],
   "source": [
    "# GETTING THE DATASET \n",
    "    \n",
    "# extract frames from live video\n",
    "label = input(\"In a word, what am I about to see? \")\n",
    "record_frames(label)\n",
    "print('\\nGot it')"
   ]
  },
  {
   "cell_type": "code",
   "execution_count": 5,
   "metadata": {},
   "outputs": [
    {
     "name": "stdout",
     "output_type": "stream",
     "text": [
      "And now? MX4\n",
      "Keep r pressed to record\n",
      "Keep q pressed to exit\n",
      "....................................................................................................\n",
      "Alright\n"
     ]
    }
   ],
   "source": [
    "label =  input(\"And now? \")\n",
    "record_frames(label)\n",
    "print ('\\nAlright')"
   ]
  },
  {
   "cell_type": "code",
   "execution_count": 6,
   "metadata": {},
   "outputs": [
    {
     "name": "stdout",
     "output_type": "stream",
     "text": [
      "what about the last? Hand_2\n",
      "Keep r pressed to record\n",
      "Keep q pressed to exit\n",
      "..................................................\n",
      "Done\n"
     ]
    }
   ],
   "source": [
    "label = input(\"what about the last? \")\n",
    "record_frames(label)\n",
    "print('\\nDone')"
   ]
  },
  {
   "cell_type": "code",
   "execution_count": null,
   "metadata": {},
   "outputs": [],
   "source": []
  }
 ],
 "metadata": {
  "kernelspec": {
   "display_name": "Python 3",
   "language": "python",
   "name": "python3"
  },
  "language_info": {
   "codemirror_mode": {
    "name": "ipython",
    "version": 3
   },
   "file_extension": ".py",
   "mimetype": "text/x-python",
   "name": "python",
   "nbconvert_exporter": "python",
   "pygments_lexer": "ipython3",
   "version": "3.7.4"
  }
 },
 "nbformat": 4,
 "nbformat_minor": 2
}
