{
 "cells": [
  {
   "cell_type": "code",
   "execution_count": 1,
   "metadata": {
    "scrolled": false
   },
   "outputs": [
    {
     "name": "stderr",
     "output_type": "stream",
     "text": [
      "Using TensorFlow backend.\n",
      "/usr/local/lib/python3.7/site-packages/tensorflow/python/framework/dtypes.py:526: FutureWarning: Passing (type, 1) or '1type' as a synonym of type is deprecated; in a future version of numpy, it will be understood as (type, (1,)) / '(1,)type'.\n",
      "  _np_qint8 = np.dtype([(\"qint8\", np.int8, 1)])\n",
      "/usr/local/lib/python3.7/site-packages/tensorflow/python/framework/dtypes.py:527: FutureWarning: Passing (type, 1) or '1type' as a synonym of type is deprecated; in a future version of numpy, it will be understood as (type, (1,)) / '(1,)type'.\n",
      "  _np_quint8 = np.dtype([(\"quint8\", np.uint8, 1)])\n",
      "/usr/local/lib/python3.7/site-packages/tensorflow/python/framework/dtypes.py:528: FutureWarning: Passing (type, 1) or '1type' as a synonym of type is deprecated; in a future version of numpy, it will be understood as (type, (1,)) / '(1,)type'.\n",
      "  _np_qint16 = np.dtype([(\"qint16\", np.int16, 1)])\n",
      "/usr/local/lib/python3.7/site-packages/tensorflow/python/framework/dtypes.py:529: FutureWarning: Passing (type, 1) or '1type' as a synonym of type is deprecated; in a future version of numpy, it will be understood as (type, (1,)) / '(1,)type'.\n",
      "  _np_quint16 = np.dtype([(\"quint16\", np.uint16, 1)])\n",
      "/usr/local/lib/python3.7/site-packages/tensorflow/python/framework/dtypes.py:530: FutureWarning: Passing (type, 1) or '1type' as a synonym of type is deprecated; in a future version of numpy, it will be understood as (type, (1,)) / '(1,)type'.\n",
      "  _np_qint32 = np.dtype([(\"qint32\", np.int32, 1)])\n",
      "/usr/local/lib/python3.7/site-packages/tensorflow/python/framework/dtypes.py:535: FutureWarning: Passing (type, 1) or '1type' as a synonym of type is deprecated; in a future version of numpy, it will be understood as (type, (1,)) / '(1,)type'.\n",
      "  np_resource = np.dtype([(\"resource\", np.ubyte, 1)])\n"
     ]
    }
   ],
   "source": [
    "import CONST\n",
    "import numpy as np\n",
    "import cv2\n",
    "import os\n",
    "import time\n",
    "from imutils import paths\n",
    "from sklearn.model_selection import train_test_split\n",
    "from keras.preprocessing.image import img_to_array\n",
    "from keras.utils import to_categorical\n",
    "from keras import applications\n",
    "from keras.models import Sequential\n",
    "from keras.layers import Dropout, Flatten, Dense\n",
    "import matplotlib.pyplot as plt\n",
    "from PIL import Image\n",
    "import keras\n",
    "from keras.datasets import mnist\n",
    "from keras.models import Sequential\n",
    "from keras.layers import Dense, Dropout, Flatten\n",
    "from keras.layers import Conv2D, MaxPooling2D\n",
    "from keras import backend as K\n",
    "import pandas as pd"
   ]
  },
  {
   "cell_type": "code",
   "execution_count": 2,
   "metadata": {},
   "outputs": [
    {
     "ename": "NameError",
     "evalue": "name 'NUM_CLASSES' is not defined",
     "output_type": "error",
     "traceback": [
      "\u001b[0;31m---------------------------------------------------------------------------\u001b[0m",
      "\u001b[0;31mNameError\u001b[0m                                 Traceback (most recent call last)",
      "\u001b[0;32m<ipython-input-2-808651adb320>\u001b[0m in \u001b[0;36m<module>\u001b[0;34m\u001b[0m\n\u001b[0;32m----> 1\u001b[0;31m \u001b[0mTRAIN_SAMPLES\u001b[0m \u001b[0;34m=\u001b[0m \u001b[0mCONST\u001b[0m\u001b[0;34m.\u001b[0m\u001b[0mFRAMES_PER_VIDEO\u001b[0m\u001b[0;34m*\u001b[0m\u001b[0mNUM_CLASSES\u001b[0m\u001b[0;34m*\u001b[0m\u001b[0;34m(\u001b[0m\u001b[0;36m1\u001b[0m\u001b[0;34m-\u001b[0m\u001b[0mTEST_SIZE\u001b[0m\u001b[0;34m)\u001b[0m \u001b[0;31m#112\u001b[0m\u001b[0;34m\u001b[0m\u001b[0;34m\u001b[0m\u001b[0m\n\u001b[0m\u001b[1;32m      2\u001b[0m \u001b[0mVAL_SAMPLES\u001b[0m \u001b[0;34m=\u001b[0m \u001b[0mCONST\u001b[0m\u001b[0;34m.\u001b[0m\u001b[0mFRAMES_PER_VIDEO\u001b[0m\u001b[0;34m*\u001b[0m\u001b[0mNUM_CLASSES\u001b[0m\u001b[0;34m*\u001b[0m\u001b[0mTEST_SIZE\u001b[0m \u001b[0;31m#38\u001b[0m\u001b[0;34m\u001b[0m\u001b[0;34m\u001b[0m\u001b[0m\n",
      "\u001b[0;31mNameError\u001b[0m: name 'NUM_CLASSES' is not defined"
     ]
    }
   ],
   "source": [
    "TRAIN_SAMPLES = CONST.FRAMES_PER_VIDEO*NUM_CLASSES*(1-TEST_SIZE) #112\n",
    "VAL_SAMPLES = CONST.FRAMES_PER_VIDEO*NUM_CLASSES*TEST_SIZE #38"
   ]
  },
  {
   "cell_type": "code",
   "execution_count": 3,
   "metadata": {},
   "outputs": [
    {
     "name": "stdout",
     "output_type": "stream",
     "text": [
      "Loading dataset...\n"
     ]
    }
   ],
   "source": [
    "# PREPROCESSING DATASET -----------------\n",
    "print(\"Loading dataset...\")\n",
    "\n",
    "#grab the paths to our input images followed by shuffling them \n",
    "imagePaths = sorted(list(paths.list_images('dataset')))"
   ]
  },
  {
   "cell_type": "code",
   "execution_count": 4,
   "metadata": {},
   "outputs": [
    {
     "name": "stdout",
     "output_type": "stream",
     "text": [
      "MX4\n",
      "Peace\n",
      "fist\n"
     ]
    },
    {
     "data": {
      "text/plain": [
       "{'MX4': 0, 'Peace': 1, 'fist': 2}"
      ]
     },
     "execution_count": 4,
     "metadata": {},
     "output_type": "execute_result"
    }
   ],
   "source": [
    "lookup = dict()\n",
    "reverselookup = dict()\n",
    "count = 0\n",
    "for j in os.listdir('dataset'):\n",
    "    if not j.startswith('.'): # If running this code locally, this is to \n",
    "        print(j)                      # ensure you aren't reading in hidden folders\n",
    "        lookup[j] = count\n",
    "        reverselookup[count] = j\n",
    "        count = count + 1\n",
    "lookup"
   ]
  },
  {
   "cell_type": "code",
   "execution_count": 5,
   "metadata": {},
   "outputs": [
    {
     "name": "stdout",
     "output_type": "stream",
     "text": [
      "[0, 0, 0, 0, 0, 0, 0, 0, 0, 0, 0, 0, 0, 0, 0, 0, 0, 0, 0, 0, 0, 0, 0, 0, 0, 0, 0, 0, 0, 0, 0, 0, 0, 0, 0, 0, 0, 0, 0, 0, 0, 0, 0, 0, 0, 0, 0, 0, 0, 0, 0, 0, 0, 0, 0, 0, 0, 0, 0, 0, 0, 0, 0, 0, 0, 0, 0, 0, 0, 0, 0, 0, 0, 0, 0, 0, 0, 0, 0, 0, 0, 0, 0, 0, 0, 0, 0, 0, 0, 0, 0, 0, 0, 0, 0, 0, 0, 0, 0, 0, 1, 1, 1, 1, 1, 1, 1, 1, 1, 1, 1, 1, 1, 1, 1, 1, 1, 1, 1, 1, 1, 1, 1, 1, 1, 1, 1, 1, 1, 1, 1, 1, 1, 1, 1, 1, 1, 1, 1, 1, 1, 1, 1, 1, 1, 1, 1, 1, 1, 1, 1, 1, 1, 1, 1, 1, 1, 1, 1, 1, 1, 1, 1, 1, 1, 1, 1, 1, 1, 1, 1, 1, 1, 1, 1, 1, 1, 1, 1, 1, 1, 1, 1, 1, 1, 1, 1, 1, 1, 1, 1, 1, 1, 1, 1, 1, 1, 1, 1, 1, 2, 2, 2, 2, 2, 2, 2, 2, 2, 2, 2, 2, 2, 2, 2, 2, 2, 2, 2, 2, 2, 2, 2, 2, 2, 2, 2, 2, 2, 2, 2, 2, 2, 2, 2, 2, 2, 2, 2, 2, 2, 2, 2, 2, 2, 2, 2, 2, 2, 2, 2, 2, 2, 2, 2, 2, 2, 2, 2, 2, 2, 2, 2, 2, 2, 2, 2, 2, 2, 2, 2, 2, 2, 2, 2, 2, 2, 2, 2, 2, 2, 2, 2, 2, 2, 2, 2, 2, 2, 2, 2, 2, 2, 2, 2, 2, 2, 2, 2, 2]\n"
     ]
    }
   ],
   "source": [
    "data = []\n",
    "labels = []\n",
    "lookup = {}\n",
    "for imagePath in imagePaths:\n",
    "    # load the image, pre-process it, resize it to IMAGE_SIZE, store it in the data list\n",
    "    image = cv2.imread(imagePath)\n",
    "    image = cv2.cvtColor(image, cv2.COLOR_BGR2GRAY)\n",
    "    image = cv2.resize(image, (CONST.IMAGE_SIZE, CONST.IMAGE_SIZE))\n",
    "    image = img_to_array(image)\n",
    "    data.append(image)\n",
    "    label = imagePath.split(os.path.sep)[-2]\n",
    "    folders = []\n",
    "    for folder in os.listdir('dataset'):\n",
    "        if not folder.startswith('.'):\n",
    "            folders.append(folder)\n",
    "    for i in range(len(folders)):\n",
    "        if label == folders[i]:\n",
    "            label = i\n",
    "            labels.append(label)\n",
    "            if folders[i] not in lookup.keys():\n",
    "                lookup[i]= folders[i]\n",
    "            else:\n",
    "                pass\n",
    "    \n",
    "print(labels)"
   ]
  },
  {
   "cell_type": "code",
   "execution_count": 18,
   "metadata": {},
   "outputs": [],
   "source": [
    "# scaling the data points from [0, 255] to the range [0, 1]\n",
    "data = np.array(data, dtype=\"float32\") / 255.0\n",
    "labels = np.array(labels)\n"
   ]
  },
  {
   "cell_type": "code",
   "execution_count": 19,
   "metadata": {},
   "outputs": [
    {
     "data": {
      "text/plain": [
       "(100, 100, 1)"
      ]
     },
     "execution_count": 19,
     "metadata": {},
     "output_type": "execute_result"
    }
   ],
   "source": [
    "from sklearn.model_selection import train_test_split\n",
    "X_train,X_test,y_train,y_test = train_test_split(data,labels,test_size = 0.1)\n",
    "X_train[0].shape"
   ]
  },
  {
   "cell_type": "code",
   "execution_count": 20,
   "metadata": {},
   "outputs": [],
   "source": [
    "# convert the labels from integers to vectors\n",
    "NUM_CLASSES = len(folders)\n",
    "\n",
    "y_train = to_categorical(y_train).astype(int)\n",
    "y_test = to_categorical(y_test).astype(int)"
   ]
  },
  {
   "cell_type": "code",
   "execution_count": 34,
   "metadata": {},
   "outputs": [],
   "source": [
    "def save_bottlebeck_features():\n",
    "    \n",
    "    print(\"Training the VGG16 bottleneck features ...\")\n",
    "    \n",
    "    # build the VGG16 network\n",
    "    model = applications.VGG16(include_top=False, weights=None, input_shape=(100,100,1)) \n",
    "    \n",
    "    bottleneck_features_train = model.predict(X_train, verbose=1)\n",
    "    np.save('bottleneck_features_train.npy', bottleneck_features_train)\n",
    "    \n",
    "    bottleneck_features_validation  = model.predict(X_test, verbose=1)\n",
    "    np.save('bottleneck_features_validation.npy', bottleneck_features_validation)"
   ]
  },
  {
   "cell_type": "code",
   "execution_count": 35,
   "metadata": {},
   "outputs": [
    {
     "name": "stdout",
     "output_type": "stream",
     "text": [
      "Training the VGG16 bottleneck features ...\n",
      "270/270 [==============================] - 36s 132ms/step\n",
      "30/30 [==============================] - 4s 147ms/step\n"
     ]
    }
   ],
   "source": [
    "save_bottlebeck_features()"
   ]
  },
  {
   "cell_type": "code",
   "execution_count": 36,
   "metadata": {},
   "outputs": [
    {
     "name": "stdout",
     "output_type": "stream",
     "text": [
      "[INFO] training the top of the model...\n"
     ]
    }
   ],
   "source": [
    "print(\"[INFO] training the top of the model...\")"
   ]
  },
  {
   "cell_type": "code",
   "execution_count": 37,
   "metadata": {
    "scrolled": false
   },
   "outputs": [],
   "source": [
    "#save_bottlebeck_features()\n",
    "\n",
    "train_data = np.load('bottleneck_features_train.npy')\n",
    "validation_data = np.load('bottleneck_features_validation.npy')\n"
   ]
  },
  {
   "cell_type": "code",
   "execution_count": 38,
   "metadata": {},
   "outputs": [],
   "source": [
    "from keras import layers"
   ]
  },
  {
   "cell_type": "code",
   "execution_count": 39,
   "metadata": {},
   "outputs": [],
   "source": [
    "top_model = Sequential()\n",
    "top_model.add(Flatten(input_shape=train_data.shape[1:]))\n",
    "top_model.add(Dense(256, activation='relu'))\n",
    "top_model.add(Dropout(0.6))\n",
    "top_model.add(Dense(3, activation='sigmoid'))"
   ]
  },
  {
   "cell_type": "code",
   "execution_count": 40,
   "metadata": {},
   "outputs": [],
   "source": [
    "top_model.compile(optimizer='rmsprop',\n",
    "              loss='categorical_crossentropy',\n",
    "              metrics=['accuracy'])"
   ]
  },
  {
   "cell_type": "code",
   "execution_count": 41,
   "metadata": {},
   "outputs": [],
   "source": [
    "EPOCHS = 50\n",
    "BATCH_SIZE = 2\n",
    "NUM_CLASSES = 3\n",
    "TEST_SIZE = 0.25"
   ]
  },
  {
   "cell_type": "code",
   "execution_count": 44,
   "metadata": {
    "scrolled": false
   },
   "outputs": [
    {
     "name": "stdout",
     "output_type": "stream",
     "text": [
      "Train on 270 samples, validate on 30 samples\n",
      "Epoch 1/50\n",
      "270/270 [==============================] - 2s 7ms/step - loss: 1.0955 - accuracy: 0.3593 - val_loss: 1.1123 - val_accuracy: 0.2000\n",
      "Epoch 2/50\n",
      "270/270 [==============================] - 2s 7ms/step - loss: 1.1018 - accuracy: 0.3111 - val_loss: 1.1113 - val_accuracy: 0.2000\n",
      "Epoch 3/50\n",
      "270/270 [==============================] - 2s 8ms/step - loss: 1.1028 - accuracy: 0.3222 - val_loss: 1.1095 - val_accuracy: 0.2000\n",
      "Epoch 4/50\n",
      "270/270 [==============================] - 2s 8ms/step - loss: 1.0984 - accuracy: 0.3593 - val_loss: 1.1096 - val_accuracy: 0.2000\n",
      "Epoch 5/50\n",
      "270/270 [==============================] - 2s 9ms/step - loss: 1.1012 - accuracy: 0.3481 - val_loss: 1.1087 - val_accuracy: 0.2000\n",
      "Epoch 6/50\n",
      "270/270 [==============================] - 2s 9ms/step - loss: 1.0993 - accuracy: 0.3259 - val_loss: 1.1091 - val_accuracy: 0.2000\n",
      "Epoch 7/50\n",
      "270/270 [==============================] - 2s 8ms/step - loss: 1.0998 - accuracy: 0.3333 - val_loss: 1.1081 - val_accuracy: 0.2000\n",
      "Epoch 8/50\n",
      "270/270 [==============================] - 2s 8ms/step - loss: 1.0990 - accuracy: 0.3333 - val_loss: 1.1085 - val_accuracy: 0.2000\n",
      "Epoch 9/50\n",
      "270/270 [==============================] - 2s 8ms/step - loss: 1.0993 - accuracy: 0.3630 - val_loss: 1.1078 - val_accuracy: 0.2000\n",
      "Epoch 10/50\n",
      "270/270 [==============================] - 2s 8ms/step - loss: 1.1006 - accuracy: 0.3148 - val_loss: 1.1080 - val_accuracy: 0.2000\n",
      "Epoch 11/50\n",
      "270/270 [==============================] - 2s 8ms/step - loss: 1.0989 - accuracy: 0.3407 - val_loss: 1.1088 - val_accuracy: 0.2000\n",
      "Epoch 12/50\n",
      "270/270 [==============================] - 3s 10ms/step - loss: 1.0994 - accuracy: 0.3556 - val_loss: 1.1091 - val_accuracy: 0.2000\n",
      "Epoch 13/50\n",
      "270/270 [==============================] - 2s 9ms/step - loss: 1.0995 - accuracy: 0.3556 - val_loss: 1.1086 - val_accuracy: 0.2000\n",
      "Epoch 14/50\n",
      "270/270 [==============================] - 2s 8ms/step - loss: 1.0970 - accuracy: 0.3407 - val_loss: 1.1090 - val_accuracy: 0.2000\n",
      "Epoch 15/50\n",
      "270/270 [==============================] - 2s 8ms/step - loss: 1.1001 - accuracy: 0.3481 - val_loss: 1.1093 - val_accuracy: 0.2000\n",
      "Epoch 16/50\n",
      "270/270 [==============================] - 2s 8ms/step - loss: 1.0962 - accuracy: 0.3481 - val_loss: 1.1116 - val_accuracy: 0.2000\n",
      "Epoch 17/50\n",
      "270/270 [==============================] - 2s 8ms/step - loss: 1.0999 - accuracy: 0.3481 - val_loss: 1.1107 - val_accuracy: 0.2000\n",
      "Epoch 18/50\n",
      "270/270 [==============================] - 2s 8ms/step - loss: 1.0985 - accuracy: 0.3481 - val_loss: 1.1103 - val_accuracy: 0.2000\n",
      "Epoch 19/50\n",
      "270/270 [==============================] - 3s 9ms/step - loss: 1.1003 - accuracy: 0.3481 - val_loss: 1.1101 - val_accuracy: 0.2000\n",
      "Epoch 20/50\n",
      "270/270 [==============================] - 2s 9ms/step - loss: 1.0980 - accuracy: 0.3481 - val_loss: 1.1094 - val_accuracy: 0.2000\n",
      "Epoch 21/50\n",
      "270/270 [==============================] - 2s 9ms/step - loss: 1.0992 - accuracy: 0.3481 - val_loss: 1.1097 - val_accuracy: 0.2000\n",
      "Epoch 22/50\n",
      "270/270 [==============================] - 2s 9ms/step - loss: 1.0974 - accuracy: 0.3481 - val_loss: 1.1105 - val_accuracy: 0.2000\n",
      "Epoch 23/50\n",
      "270/270 [==============================] - 2s 8ms/step - loss: 1.0982 - accuracy: 0.3481 - val_loss: 1.1105 - val_accuracy: 0.2000\n",
      "Epoch 24/50\n",
      "270/270 [==============================] - 2s 8ms/step - loss: 1.1000 - accuracy: 0.3481 - val_loss: 1.1101 - val_accuracy: 0.2000\n",
      "Epoch 25/50\n",
      "270/270 [==============================] - 3s 9ms/step - loss: 1.1008 - accuracy: 0.3481 - val_loss: 1.1092 - val_accuracy: 0.2000\n",
      "Epoch 26/50\n",
      "270/270 [==============================] - 2s 8ms/step - loss: 1.0979 - accuracy: 0.3481 - val_loss: 1.1100 - val_accuracy: 0.2000\n",
      "Epoch 27/50\n",
      "270/270 [==============================] - 2s 9ms/step - loss: 1.0970 - accuracy: 0.3481 - val_loss: 1.1105 - val_accuracy: 0.2000\n",
      "Epoch 28/50\n",
      "270/270 [==============================] - 2s 9ms/step - loss: 1.0975 - accuracy: 0.3481 - val_loss: 1.1113 - val_accuracy: 0.2000\n",
      "Epoch 29/50\n",
      "270/270 [==============================] - 3s 9ms/step - loss: 1.0995 - accuracy: 0.3481 - val_loss: 1.1107 - val_accuracy: 0.2000\n",
      "Epoch 30/50\n",
      "270/270 [==============================] - 3s 10ms/step - loss: 1.0981 - accuracy: 0.3481 - val_loss: 1.1111 - val_accuracy: 0.2000\n",
      "Epoch 31/50\n",
      "270/270 [==============================] - 2s 9ms/step - loss: 1.1002 - accuracy: 0.3481 - val_loss: 1.1110 - val_accuracy: 0.2000\n",
      "Epoch 32/50\n",
      "270/270 [==============================] - 2s 9ms/step - loss: 1.0995 - accuracy: 0.3481 - val_loss: 1.1101 - val_accuracy: 0.2000\n",
      "Epoch 33/50\n",
      "270/270 [==============================] - 3s 9ms/step - loss: 1.0984 - accuracy: 0.3481 - val_loss: 1.1107 - val_accuracy: 0.2000\n",
      "Epoch 34/50\n",
      "270/270 [==============================] - 3s 10ms/step - loss: 1.0985 - accuracy: 0.3481 - val_loss: 1.1106 - val_accuracy: 0.2000\n",
      "Epoch 35/50\n",
      "270/270 [==============================] - 3s 9ms/step - loss: 1.0998 - accuracy: 0.3481 - val_loss: 1.1096 - val_accuracy: 0.2000\n",
      "Epoch 36/50\n",
      "270/270 [==============================] - 2s 8ms/step - loss: 1.0993 - accuracy: 0.3481 - val_loss: 1.1092 - val_accuracy: 0.2000\n",
      "Epoch 37/50\n",
      "270/270 [==============================] - 2s 8ms/step - loss: 1.0978 - accuracy: 0.3481 - val_loss: 1.1098 - val_accuracy: 0.2000\n",
      "Epoch 38/50\n",
      "270/270 [==============================] - 2s 8ms/step - loss: 1.0985 - accuracy: 0.3481 - val_loss: 1.1097 - val_accuracy: 0.2000\n",
      "Epoch 39/50\n",
      "270/270 [==============================] - 2s 8ms/step - loss: 1.0980 - accuracy: 0.3481 - val_loss: 1.1099 - val_accuracy: 0.2000\n",
      "Epoch 40/50\n",
      "270/270 [==============================] - 2s 9ms/step - loss: 1.0977 - accuracy: 0.3481 - val_loss: 1.1098 - val_accuracy: 0.2000\n",
      "Epoch 41/50\n",
      "270/270 [==============================] - 2s 9ms/step - loss: 1.1002 - accuracy: 0.3481 - val_loss: 1.1086 - val_accuracy: 0.2000\n",
      "Epoch 42/50\n",
      "270/270 [==============================] - 2s 8ms/step - loss: 1.0993 - accuracy: 0.3481 - val_loss: 1.1081 - val_accuracy: 0.2000\n",
      "Epoch 43/50\n",
      "270/270 [==============================] - 2s 9ms/step - loss: 1.1007 - accuracy: 0.3481 - val_loss: 1.1078 - val_accuracy: 0.2000\n",
      "Epoch 44/50\n",
      "270/270 [==============================] - 2s 9ms/step - loss: 1.0995 - accuracy: 0.3481 - val_loss: 1.1071 - val_accuracy: 0.2000\n",
      "Epoch 45/50\n",
      "270/270 [==============================] - 3s 10ms/step - loss: 1.0994 - accuracy: 0.3481 - val_loss: 1.1072 - val_accuracy: 0.2000\n",
      "Epoch 46/50\n",
      "270/270 [==============================] - 2s 8ms/step - loss: 1.0990 - accuracy: 0.3481 - val_loss: 1.1066 - val_accuracy: 0.2000\n",
      "Epoch 47/50\n",
      "270/270 [==============================] - 2s 8ms/step - loss: 1.0975 - accuracy: 0.3481 - val_loss: 1.1080 - val_accuracy: 0.2000\n",
      "Epoch 48/50\n",
      "270/270 [==============================] - 2s 8ms/step - loss: 1.0972 - accuracy: 0.3481 - val_loss: 1.1090 - val_accuracy: 0.2000\n",
      "Epoch 49/50\n",
      "270/270 [==============================] - 2s 7ms/step - loss: 1.0965 - accuracy: 0.3481 - val_loss: 1.1101 - val_accuracy: 0.2000\n",
      "Epoch 50/50\n",
      "270/270 [==============================] - 2s 7ms/step - loss: 1.0984 - accuracy: 0.3481 - val_loss: 1.1106 - val_accuracy: 0.2000\n",
      "\n",
      "Model training time: 115.6s\n",
      "\n"
     ]
    }
   ],
   "source": [
    "start = time.time()\n",
    "\n",
    "model_info = top_model.fit(train_data, y_train,batch_size=BATCH_SIZE,epochs=EPOCHS,\n",
    "                           validation_data=(validation_data, y_test),\n",
    "                           verbose=1)\n",
    "end = time.time()\n",
    "\n",
    "print (\"\\nModel training time: %0.1fs\\n\" % (end - start))"
   ]
  },
  {
   "cell_type": "code",
   "execution_count": 43,
   "metadata": {
    "scrolled": false
   },
   "outputs": [
    {
     "name": "stdout",
     "output_type": "stream",
     "text": [
      "30/30 [==============================] - 0s 248us/step\n",
      "\n",
      "Test Loss:  111.19%\n",
      "Test Accuracy: 20.00%\n",
      "\n"
     ]
    }
   ],
   "source": [
    "scores = top_model.evaluate(validation_data, y_test)\n",
    "print(\"\\nTest Loss:  %.2f%%\" % (scores[0]*100))\n",
    "print(\"Test Accuracy: %.2f%%\\n\" % (scores[1]*100))"
   ]
  },
  {
   "cell_type": "code",
   "execution_count": null,
   "metadata": {},
   "outputs": [],
   "source": [
    "# Saving model\n",
    "'''if not os.path.isdir(CONST.SAVE_DIR):\n",
    "    os.makedirs(CONST.SAVE_DIR)\n",
    "model_path = os.path.join(CONST.SAVE_DIR, CONST.BOTTLENECK_MODEL)\n",
    "top_model.save(model_path)\n",
    "print('\\nSaved trained model at %s ' % model_path)'''"
   ]
  }
 ],
 "metadata": {
  "kernelspec": {
   "display_name": "Python 3",
   "language": "python",
   "name": "python3"
  },
  "language_info": {
   "codemirror_mode": {
    "name": "ipython",
    "version": 3
   },
   "file_extension": ".py",
   "mimetype": "text/x-python",
   "name": "python",
   "nbconvert_exporter": "python",
   "pygments_lexer": "ipython3",
   "version": "3.7.4"
  }
 },
 "nbformat": 4,
 "nbformat_minor": 2
}
