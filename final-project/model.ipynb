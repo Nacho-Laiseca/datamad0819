{
 "cells": [
  {
   "cell_type": "code",
   "execution_count": 10,
   "metadata": {
    "scrolled": false
   },
   "outputs": [],
   "source": [
    "from src import CONST\n",
    "import numpy as np\n",
    "import cv2\n",
    "import os\n",
    "import time\n",
    "from imutils import paths\n",
    "from sklearn.model_selection import train_test_split\n",
    "from keras.preprocessing.image import img_to_array\n",
    "from keras.utils import to_categorical\n",
    "from keras import applications\n",
    "from keras.models import Sequential\n",
    "from keras.layers import Dropout, Flatten, Dense\n",
    "import matplotlib.pyplot as plt\n",
    "from PIL import Image\n",
    "import keras\n",
    "from keras.datasets import mnist\n",
    "from keras.models import Sequential\n",
    "from keras.layers import Dense, Dropout, Flatten\n",
    "from keras.layers import Conv2D, MaxPooling2D\n",
    "from keras import backend as K\n",
    "import pandas as pd"
   ]
  },
  {
   "cell_type": "code",
   "execution_count": 11,
   "metadata": {},
   "outputs": [
    {
     "name": "stdout",
     "output_type": "stream",
     "text": [
      "Loading dataset...\n"
     ]
    }
   ],
   "source": [
    "# PREPROCESSING DATASET -----------------\n",
    "print(\"Loading dataset...\")\n",
    "\n",
    "#grab the paths to our input images followed by shuffling them \n",
    "imagePaths = sorted(list(paths.list_images('dataset')))"
   ]
  },
  {
   "cell_type": "code",
   "execution_count": 12,
   "metadata": {},
   "outputs": [
    {
     "name": "stdout",
     "output_type": "stream",
     "text": [
      "MX4\n",
      "Peace\n",
      "fist\n"
     ]
    },
    {
     "data": {
      "text/plain": [
       "{'MX4': 0, 'Peace': 1, 'fist': 2}"
      ]
     },
     "execution_count": 12,
     "metadata": {},
     "output_type": "execute_result"
    }
   ],
   "source": [
    "lookup = dict()\n",
    "reverselookup = dict()\n",
    "count = 0\n",
    "for j in os.listdir('dataset'):\n",
    "    if not j.startswith('.'): # If running this code locally, this is to \n",
    "        print(j)                      # ensure you aren't reading in hidden folders\n",
    "        lookup[j] = count\n",
    "        reverselookup[count] = j\n",
    "        count = count + 1\n",
    "lookup"
   ]
  },
  {
   "cell_type": "code",
   "execution_count": 14,
   "metadata": {},
   "outputs": [
    {
     "name": "stdout",
     "output_type": "stream",
     "text": [
      "[0, 0, 0, 0, 0, 0, 0, 0, 0, 0, 0, 0, 0, 0, 0, 0, 0, 0, 0, 0, 0, 0, 0, 0, 0, 0, 0, 0, 0, 0, 0, 0, 0, 0, 0, 0, 0, 0, 0, 0, 0, 0, 0, 0, 0, 0, 0, 0, 0, 0, 0, 0, 0, 0, 0, 0, 0, 0, 0, 0, 0, 0, 0, 0, 0, 0, 0, 0, 0, 0, 0, 0, 0, 0, 0, 0, 0, 0, 0, 0, 0, 0, 0, 0, 0, 0, 0, 0, 0, 0, 0, 0, 0, 0, 0, 0, 0, 0, 0, 0, 1, 1, 1, 1, 1, 1, 1, 1, 1, 1, 1, 1, 1, 1, 1, 1, 1, 1, 1, 1, 1, 1, 1, 1, 1, 1, 1, 1, 1, 1, 1, 1, 1, 1, 1, 1, 1, 1, 1, 1, 1, 1, 1, 1, 1, 1, 1, 1, 1, 1, 1, 1, 1, 1, 1, 1, 1, 1, 1, 1, 1, 1, 1, 1, 1, 1, 1, 1, 1, 1, 1, 1, 1, 1, 1, 1, 1, 1, 1, 1, 1, 1, 1, 1, 1, 1, 1, 1, 1, 1, 1, 1, 1, 1, 1, 1, 1, 1, 1, 1, 2, 2, 2, 2, 2, 2, 2, 2, 2, 2, 2, 2, 2, 2, 2, 2, 2, 2, 2, 2, 2, 2, 2, 2, 2, 2, 2, 2, 2, 2, 2, 2, 2, 2, 2, 2, 2, 2, 2, 2, 2, 2, 2, 2, 2, 2, 2, 2, 2, 2, 2, 2, 2, 2, 2, 2, 2, 2, 2, 2, 2, 2, 2, 2, 2, 2, 2, 2, 2, 2, 2, 2, 2, 2, 2, 2, 2, 2, 2, 2, 2, 2, 2, 2, 2, 2, 2, 2, 2, 2, 2, 2, 2, 2, 2, 2, 2, 2, 2, 2]\n"
     ]
    }
   ],
   "source": [
    "data = []\n",
    "labels = []\n",
    "lookup = {}\n",
    "for imagePath in imagePaths:\n",
    "    # load the image, pre-process it, resize it to IMAGE_SIZE, store it in the data list\n",
    "    image = cv2.imread(imagePath)\n",
    "    image = cv2.cvtColor(image, cv2.COLOR_BGR2GRAY)\n",
    "    image = cv2.resize(image, (CONST.IMAGE_SIZE, CONST.IMAGE_SIZE))\n",
    "    image = img_to_array(image)\n",
    "    data.append(image)\n",
    "    label = imagePath.split(os.path.sep)[-2]\n",
    "    folders = []\n",
    "    for folder in os.listdir('dataset'):\n",
    "        if not folder.startswith('.'):\n",
    "            folders.append(folder)\n",
    "    for i in range(len(folders)):\n",
    "        if label == folders[i]:\n",
    "            label = i\n",
    "            labels.append(label)\n",
    "            if folders[i] not in lookup.keys():\n",
    "                lookup[i]= folders[i]\n",
    "            else:\n",
    "                pass\n",
    "    \n",
    "print(labels)"
   ]
  },
  {
   "cell_type": "code",
   "execution_count": 15,
   "metadata": {},
   "outputs": [],
   "source": [
    "# scaling the data points from [0, 255] to the range [0, 1]\n",
    "data = np.array(data, dtype=\"float32\") / 255.0\n",
    "labels = np.array(labels)\n"
   ]
  },
  {
   "cell_type": "code",
   "execution_count": 16,
   "metadata": {},
   "outputs": [
    {
     "data": {
      "text/plain": [
       "(100, 100, 1)"
      ]
     },
     "execution_count": 16,
     "metadata": {},
     "output_type": "execute_result"
    }
   ],
   "source": [
    "from sklearn.model_selection import train_test_split\n",
    "X_train,X_test,y_train,y_test = train_test_split(data,labels,test_size = 0.1)\n",
    "X_train[0].shape"
   ]
  },
  {
   "cell_type": "code",
   "execution_count": 17,
   "metadata": {},
   "outputs": [],
   "source": [
    "# convert the labels from integers to vectors\n",
    "NUM_CLASSES = len(folders)\n",
    "\n",
    "y_train = to_categorical(y_train).astype(int)\n",
    "y_test = to_categorical(y_test).astype(int)"
   ]
  },
  {
   "cell_type": "code",
   "execution_count": 18,
   "metadata": {},
   "outputs": [],
   "source": [
    "def save_bottlebeck_features():\n",
    "    \n",
    "    print(\"Training the VGG16 bottleneck features ...\")\n",
    "    \n",
    "    # build the VGG16 network\n",
    "    model = applications.VGG16(include_top=False, weights=None, input_shape=(100,100,1)) \n",
    "    \n",
    "    bottleneck_features_train = model.predict(X_train, verbose=1)\n",
    "    np.save('bottleneck_features_train.npy', bottleneck_features_train)\n",
    "    \n",
    "    bottleneck_features_validation  = model.predict(X_test, verbose=1)\n",
    "    np.save('bottleneck_features_validation.npy', bottleneck_features_validation)"
   ]
  },
  {
   "cell_type": "code",
   "execution_count": 19,
   "metadata": {},
   "outputs": [
    {
     "name": "stdout",
     "output_type": "stream",
     "text": [
      "Training the VGG16 bottleneck features ...\n",
      "WARNING:tensorflow:From /usr/local/lib/python3.7/site-packages/tensorflow/python/ops/resource_variable_ops.py:435: colocate_with (from tensorflow.python.framework.ops) is deprecated and will be removed in a future version.\n",
      "Instructions for updating:\n",
      "Colocations handled automatically by placer.\n",
      "270/270 [==============================] - 32s 119ms/step\n",
      "30/30 [==============================] - 3s 115ms/step\n"
     ]
    }
   ],
   "source": [
    "save_bottlebeck_features()"
   ]
  },
  {
   "cell_type": "code",
   "execution_count": 20,
   "metadata": {},
   "outputs": [
    {
     "name": "stdout",
     "output_type": "stream",
     "text": [
      "[INFO] training the top of the model...\n"
     ]
    }
   ],
   "source": [
    "print(\"[INFO] training the top of the model...\")"
   ]
  },
  {
   "cell_type": "code",
   "execution_count": 21,
   "metadata": {
    "scrolled": false
   },
   "outputs": [],
   "source": [
    "#save_bottlebeck_features()\n",
    "\n",
    "train_data = np.load('bottleneck_features_train.npy')\n",
    "validation_data = np.load('bottleneck_features_validation.npy')\n"
   ]
  },
  {
   "cell_type": "code",
   "execution_count": 22,
   "metadata": {},
   "outputs": [],
   "source": [
    "from keras import layers"
   ]
  },
  {
   "cell_type": "code",
   "execution_count": 23,
   "metadata": {},
   "outputs": [],
   "source": [
    "top_model = Sequential()\n",
    "top_model.add(Flatten(input_shape=train_data.shape[1:]))\n",
    "top_model.add(Dense(256, activation='relu'))\n",
    "top_model.add(Dropout(0.6))\n",
    "top_model.add(Dense(3, activation='sigmoid'))"
   ]
  },
  {
   "cell_type": "code",
   "execution_count": 24,
   "metadata": {},
   "outputs": [],
   "source": [
    "top_model.compile(optimizer='rmsprop',\n",
    "              loss='categorical_crossentropy',\n",
    "              metrics=['accuracy'])"
   ]
  },
  {
   "cell_type": "code",
   "execution_count": 25,
   "metadata": {},
   "outputs": [],
   "source": [
    "EPOCHS = 50\n",
    "BATCH_SIZE = 2\n",
    "NUM_CLASSES = 3\n",
    "TEST_SIZE = 0.25"
   ]
  },
  {
   "cell_type": "code",
   "execution_count": null,
   "metadata": {
    "scrolled": false
   },
   "outputs": [
    {
     "name": "stdout",
     "output_type": "stream",
     "text": [
      "WARNING:tensorflow:From /usr/local/lib/python3.7/site-packages/tensorflow/python/ops/math_ops.py:3066: to_int32 (from tensorflow.python.ops.math_ops) is deprecated and will be removed in a future version.\n",
      "Instructions for updating:\n",
      "Use tf.cast instead.\n",
      "Train on 270 samples, validate on 30 samples\n",
      "Epoch 1/50\n",
      "270/270 [==============================] - 3s 12ms/step - loss: 1.0991 - accuracy: 0.3444 - val_loss: 1.0998 - val_accuracy: 0.2000\n",
      "Epoch 2/50\n",
      "270/270 [==============================] - 2s 7ms/step - loss: 1.0987 - accuracy: 0.3519 - val_loss: 1.1001 - val_accuracy: 0.2000\n",
      "Epoch 3/50\n",
      "270/270 [==============================] - 2s 6ms/step - loss: 1.0979 - accuracy: 0.3519 - val_loss: 1.0997 - val_accuracy: 0.2000\n",
      "Epoch 4/50\n",
      "270/270 [==============================] - 2s 6ms/step - loss: 1.0973 - accuracy: 0.3667 - val_loss: 1.1002 - val_accuracy: 0.2000\n",
      "Epoch 5/50\n",
      "270/270 [==============================] - 2s 6ms/step - loss: 1.0953 - accuracy: 0.3963 - val_loss: 1.1002 - val_accuracy: 0.2000\n",
      "Epoch 6/50\n",
      "270/270 [==============================] - 2s 6ms/step - loss: 1.0966 - accuracy: 0.3778 - val_loss: 1.0978 - val_accuracy: 0.2000\n",
      "Epoch 7/50\n",
      "270/270 [==============================] - 2s 6ms/step - loss: 1.0941 - accuracy: 0.3926 - val_loss: 1.0975 - val_accuracy: 0.2000\n",
      "Epoch 8/50\n",
      "270/270 [==============================] - 2s 6ms/step - loss: 1.0951 - accuracy: 0.3815 - val_loss: 1.0934 - val_accuracy: 0.6000\n",
      "Epoch 9/50\n",
      "270/270 [==============================] - 2s 7ms/step - loss: 1.0898 - accuracy: 0.4222 - val_loss: 1.0914 - val_accuracy: 0.6000\n",
      "Epoch 10/50\n",
      "270/270 [==============================] - 2s 7ms/step - loss: 1.0926 - accuracy: 0.3926 - val_loss: 1.0907 - val_accuracy: 0.6000\n",
      "Epoch 11/50\n",
      "270/270 [==============================] - 2s 6ms/step - loss: 1.0849 - accuracy: 0.4259 - val_loss: 1.0882 - val_accuracy: 0.5000\n",
      "Epoch 12/50\n",
      "270/270 [==============================] - 2s 6ms/step - loss: 1.0928 - accuracy: 0.3778 - val_loss: 1.0899 - val_accuracy: 0.2000\n",
      "Epoch 13/50\n",
      "270/270 [==============================] - 2s 7ms/step - loss: 1.0849 - accuracy: 0.4000 - val_loss: 1.0850 - val_accuracy: 0.5667\n",
      "Epoch 14/50\n",
      "270/270 [==============================] - 2s 6ms/step - loss: 1.0841 - accuracy: 0.4074 - val_loss: 1.0823 - val_accuracy: 0.2000\n",
      "Epoch 15/50\n",
      "270/270 [==============================] - 2s 7ms/step - loss: 1.0769 - accuracy: 0.5074 - val_loss: 1.0816 - val_accuracy: 0.2000\n",
      "Epoch 16/50\n",
      "270/270 [==============================] - 2s 6ms/step - loss: 1.0721 - accuracy: 0.5000 - val_loss: 1.0748 - val_accuracy: 0.6000\n",
      "Epoch 17/50\n",
      "270/270 [==============================] - 2s 6ms/step - loss: 1.0700 - accuracy: 0.4704 - val_loss: 1.0716 - val_accuracy: 0.7000\n",
      "Epoch 18/50\n",
      "270/270 [==============================] - 2s 6ms/step - loss: 1.0618 - accuracy: 0.4852 - val_loss: 1.0646 - val_accuracy: 1.0000\n",
      "Epoch 19/50\n",
      "270/270 [==============================] - 2s 6ms/step - loss: 1.0601 - accuracy: 0.4741 - val_loss: 1.0626 - val_accuracy: 0.6000\n",
      "Epoch 20/50\n",
      "136/270 [==============>...............] - ETA: 0s - loss: 1.0708 - accuracy: 0.3824"
     ]
    }
   ],
   "source": [
    "start = time.time()\n",
    "\n",
    "model_info = top_model.fit(train_data, y_train,batch_size=BATCH_SIZE,epochs=EPOCHS,\n",
    "                           validation_data=(validation_data, y_test),\n",
    "                           verbose=1)\n",
    "end = time.time()\n",
    "\n",
    "print (\"\\nModel training time: %0.1fs\\n\" % (end - start))"
   ]
  },
  {
   "cell_type": "code",
   "execution_count": 43,
   "metadata": {
    "scrolled": false
   },
   "outputs": [
    {
     "name": "stdout",
     "output_type": "stream",
     "text": [
      "30/30 [==============================] - 0s 248us/step\n",
      "\n",
      "Test Loss:  111.19%\n",
      "Test Accuracy: 20.00%\n",
      "\n"
     ]
    }
   ],
   "source": [
    "scores = top_model.evaluate(validation_data, y_test)\n",
    "print(\"\\nTest Loss:  %.2f%%\" % (scores[0]*100))\n",
    "print(\"Test Accuracy: %.2f%%\\n\" % (scores[1]*100))"
   ]
  },
  {
   "cell_type": "code",
   "execution_count": null,
   "metadata": {},
   "outputs": [],
   "source": [
    "# Saving model\n",
    "'''if not os.path.isdir(CONST.SAVE_DIR):\n",
    "    os.makedirs(CONST.SAVE_DIR)\n",
    "model_path = os.path.join(CONST.SAVE_DIR, CONST.BOTTLENECK_MODEL)\n",
    "top_model.save(model_path)\n",
    "print('\\nSaved trained model at %s ' % model_path)'''"
   ]
  }
 ],
 "metadata": {
  "kernelspec": {
   "display_name": "Python 3",
   "language": "python",
   "name": "python3"
  },
  "language_info": {
   "codemirror_mode": {
    "name": "ipython",
    "version": 3
   },
   "file_extension": ".py",
   "mimetype": "text/x-python",
   "name": "python",
   "nbconvert_exporter": "python",
   "pygments_lexer": "ipython3",
   "version": "3.7.4"
  }
 },
 "nbformat": 4,
 "nbformat_minor": 2
}
