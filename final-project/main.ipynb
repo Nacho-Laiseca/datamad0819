{
 "cells": [
  {
   "cell_type": "code",
   "execution_count": 95,
   "metadata": {},
   "outputs": [],
   "source": [
    "import CONST\n",
    "import numpy as np\n",
    "import cv2\n",
    "from keras.models import load_model\n",
    "import os\n",
    "from keras.preprocessing.image import img_to_array\n",
    "from keras import applications\n",
    "from pygame import mixer\n",
    "import time"
   ]
  },
  {
   "cell_type": "code",
   "execution_count": 26,
   "metadata": {},
   "outputs": [],
   "source": [
    "model = applications.VGG16(include_top=False, weights=None, input_shape=(CONST.IMAGE_SIZE,CONST.IMAGE_SIZE,3)) \n",
    "top_model = load_model(os.path.join(CONST.SAVE_DIR,CONST.BOTTLENECK_MODEL))"
   ]
  },
  {
   "cell_type": "code",
   "execution_count": 27,
   "metadata": {},
   "outputs": [
    {
     "data": {
      "text/plain": [
       "['MX4', 'Peace', 'fist']"
      ]
     },
     "execution_count": 27,
     "metadata": {},
     "output_type": "execute_result"
    }
   ],
   "source": [
    "labels = [x for x in os.listdir('./dataset') if not x.startswith(\".\")]\n",
    "labels"
   ]
  },
  {
   "cell_type": "code",
   "execution_count": 115,
   "metadata": {},
   "outputs": [],
   "source": [
    "def predictImage(imagepath):\n",
    "    image = cv2.imread(imagepath)\n",
    "    frame2 = cv2.resize(image, (CONST.IMAGE_SIZE, CONST.IMAGE_SIZE))\n",
    "    frame2 = img_to_array(frame2)\n",
    "    frame2 = np.array(frame2, dtype=\"float32\") / 255\n",
    "    y_pred = top_model.predict_classes(model.predict(frame2[None,:,:,:]))\n",
    "    return y_pred\n"
   ]
  },
  {
   "cell_type": "code",
   "execution_count": 116,
   "metadata": {},
   "outputs": [
    {
     "name": "stdout",
     "output_type": "stream",
     "text": [
      "Path to image: test_data/1.jpg\n"
     ]
    },
    {
     "data": {
      "text/plain": [
       "array([0])"
      ]
     },
     "execution_count": 116,
     "metadata": {},
     "output_type": "execute_result"
    }
   ],
   "source": [
    "predictImage(input(\"Path to image: \"))"
   ]
  },
  {
   "cell_type": "code",
   "execution_count": 118,
   "metadata": {},
   "outputs": [
    {
     "name": "stdout",
     "output_type": "stream",
     "text": [
      "\n",
      "Importing preferences and calibrating virtual environment...\n"
     ]
    }
   ],
   "source": [
    "count = 0\n",
    "if count == 0:\n",
    "    count += 1\n",
    "    print(\"\\nImporting preferences and calibrating virtual environment...\")\n",
    "    time.sleep(2)\n",
    "    mixer.init()\n",
    "    mixer.music.load('sounds/jarvis_uploaded.wav')\n",
    "    mixer.music.play()"
   ]
  },
  {
   "cell_type": "code",
   "execution_count": null,
   "metadata": {},
   "outputs": [],
   "source": [
    "predictImage(input(\"Path to image: \"))"
   ]
  },
  {
   "cell_type": "code",
   "execution_count": 1,
   "metadata": {},
   "outputs": [
    {
     "name": "stdout",
     "output_type": "stream",
     "text": [
      "Usage:\n",
      "\n",
      "  spotify <command>\n",
      "\n",
      "Commands:\n",
      "\n",
      "  play                         # Resumes playback where Spotify last left off.\n",
      "  play <song name>             # Finds a song by name and plays it.\n",
      "  play album <album name>      # Finds an album by name and plays it.\n",
      "  play artist <artist name>    # Finds an artist by name and plays it.\n",
      "  play list <playlist name>    # Finds a playlist by name and plays it.\n",
      "  play uri <uri>               # Play songs from specific uri.\n",
      "\n",
      "  next                         # Skips to the next song in a playlist.\n",
      "  prev                         # Returns to the previous song in a playlist.\n",
      "  replay                       # Replays the current track from the beginning.\n",
      "  pos <time>                   # Jumps to a time (in secs) in the current song.\n",
      "  pause                        # Pauses (or resumes) Spotify playback.\n",
      "  stop                         # Stops playback.\n",
      "  quit                         # Stops playback and quits Spotify.\n",
      "\n",
      "  vol up                       # Increases the volume by 10%.\n",
      "  vol down                     # Decreases the volume by 10%.\n",
      "  vol <amount>                 # Sets the volume to an amount between 0 and 100.\n",
      "  vol [show]                   # Shows the current Spotify volume.\n",
      "\n",
      "  status                       # Shows the current player status.\n",
      "  status artist                # Shows the currently playing artist.\n",
      "  status album                 # Shows the currently playing album.\n",
      "  status track                 # Shows the currently playing track.\n",
      "\n",
      "  share                        # Displays the current song's Spotify URL and URI.\n",
      "  share url                    # Displays the current song's Spotify URL and copies it to the clipboard.\n",
      "  share uri                    # Displays the current song's Spotify URI and copies it to the clipboard.\n",
      "\n",
      "  toggle shuffle               # Toggles shuffle playback mode.\n",
      "  toggle repeat                # Toggles repeat playback mode.\n",
      "\n",
      "Connecting to Spotify's API:\n",
      "\n",
      "  This command line application needs to connect to Spotify's API in order to\n",
      "  find music by name. It is very likely you want this feature!\n",
      "\n",
      "  To get this to work, you need to sign up (or in) and create an 'Application' at:\n",
      "  https://developer.spotify.com/my-applications/#!/applications/create\n",
      "\n",
      "  Once you've created an application, find the 'Client ID' and 'Client Secret'\n",
      "  values, and enter them into your shpotify config file at '/Users/Ignacio/.shpotify.cfg'\n",
      "\n",
      "  Be sure to quote your values and don't add any extra spaces!\n",
      "  When done, it should look like this (but with your own values):\n",
      "  CLIENT_ID=\"abc01de2fghijk345lmnop\"\n",
      "  CLIENT_SECRET=\"qr6stu789vwxyz\"\n"
     ]
    }
   ],
   "source": [
    "!spotify open"
   ]
  },
  {
   "cell_type": "code",
   "execution_count": null,
   "metadata": {},
   "outputs": [],
   "source": [
    "predictImage(input(\"Path to image: \"))"
   ]
  },
  {
   "cell_type": "code",
   "execution_count": 2,
   "metadata": {},
   "outputs": [
    {
     "name": "stdout",
     "output_type": "stream",
     "text": [
      "\u001b[1m\u001b[32mPlaying Spotify URI: spotify:track:08mG3Y1vljYA6bvDt4Wqkj\u001b[m\r\n"
     ]
    }
   ],
   "source": [
    "!spotify play uri spotify:track:08mG3Y1vljYA6bvDt4Wqkj"
   ]
  }
 ],
 "metadata": {
  "kernelspec": {
   "display_name": "Python 3",
   "language": "python",
   "name": "python3"
  },
  "language_info": {
   "codemirror_mode": {
    "name": "ipython",
    "version": 3
   },
   "file_extension": ".py",
   "mimetype": "text/x-python",
   "name": "python",
   "nbconvert_exporter": "python",
   "pygments_lexer": "ipython3",
   "version": "3.7.4"
  }
 },
 "nbformat": 4,
 "nbformat_minor": 2
}
