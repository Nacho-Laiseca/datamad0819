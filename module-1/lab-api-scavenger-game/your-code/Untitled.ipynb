{
 "cells": [
  {
   "cell_type": "code",
   "execution_count": 5,
   "metadata": {},
   "outputs": [
    {
     "name": "stdout",
     "output_type": "stream",
     "text": [
      "['HTML', 'Python', 'Jupyter Notebook']\n"
     ]
    }
   ],
   "source": [
    "# enter your code below\n",
    "\n",
    "import requests\n",
    "import os\n",
    "from dotenv import load_dotenv\n",
    "load_dotenv()\n",
    "import base64\n",
    "\n",
    "git_token = os.getenv(\"git_token\")\n",
    "\n",
    "\n",
    "def authRequest(url, params={}):\n",
    "    headers = {\n",
    "       \"Authorization\": \"token {}\".format(git_token)\n",
    "    }\n",
    "    response = requests.get(url,headers=headers, params=params)\n",
    "\n",
    "    return response.json()\n",
    "\n",
    "\n",
    "data = authRequest(\"https://api.github.com/users/ironhack-datalabs/repos\") \n",
    "\n",
    "forks_urls = [repo[\"forks_url\"] for repo in data if repo[\"name\"]==\"datamad0819\"]\n",
    "\n",
    "forks =[authRequest(ur) for ur in forks_urls]\n",
    "\n",
    "languages_url =[fork[\"languages_url\"] for lista in forks for fork in lista]\n",
    "\n",
    "languages_forks = [authRequest(ur) for ur in languages_url]\n",
    "\n",
    "languages_list = [d for dt in languages_forks for d in dt]\n",
    "\n",
    "languages = list(set(languages_list))\n",
    "\n",
    "print(languages)"
   ]
  },
  {
   "cell_type": "code",
   "execution_count": null,
   "metadata": {},
   "outputs": [],
   "source": []
  }
 ],
 "metadata": {
  "kernelspec": {
   "display_name": "Python 3",
   "language": "python",
   "name": "python3"
  },
  "language_info": {
   "codemirror_mode": {
    "name": "ipython",
    "version": 3
   },
   "file_extension": ".py",
   "mimetype": "text/x-python",
   "name": "python",
   "nbconvert_exporter": "python",
   "pygments_lexer": "ipython3",
   "version": "3.7.4"
  }
 },
 "nbformat": 4,
 "nbformat_minor": 2
}
